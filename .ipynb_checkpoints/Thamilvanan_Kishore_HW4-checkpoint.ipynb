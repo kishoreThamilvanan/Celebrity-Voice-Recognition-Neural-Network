{
 "cells": [
  {
   "cell_type": "code",
   "execution_count": 1,
   "metadata": {},
   "outputs": [
    {
     "name": "stderr",
     "output_type": "stream",
     "text": [
      "C:\\Users\\Kishore Thamilvanan\\Anaconda3\\lib\\site-packages\\pydub\\utils.py:165: RuntimeWarning: Couldn't find ffmpeg or avconv - defaulting to ffmpeg, but may not work\n",
      "  warn(\"Couldn't find ffmpeg or avconv - defaulting to ffmpeg, but may not work\", RuntimeWarning)\n"
     ]
    }
   ],
   "source": [
    "import numpy as np\n",
    "import pandas as pd\n",
    "import speech_recognition as sr\n",
    "import wave, os, glob\n",
    "import librosa as lb\n",
    "from pydub import AudioSegment\n",
    "import IPython.display as ipd\n",
    "import math as m\n",
    "\n",
    "import tensorflow as tf\n",
    "tf.reset_default_graph()\n",
    "from sklearn.metrics import confusion_matrix\n",
    "from sklearn import datasets\n",
    "from sklearn.model_selection import train_test_split\n",
    "\n",
    "from sklearn.cluster import KMeans\n",
    "import matplotlib.pyplot as plt\n",
    "%matplotlib inline"
   ]
  },
  {
   "cell_type": "markdown",
   "metadata": {},
   "source": [
    "## Preparation"
   ]
  },
  {
   "cell_type": "code",
   "execution_count": 2,
   "metadata": {},
   "outputs": [],
   "source": [
    "filepath = 'data/Data/'\n",
    "files = os.listdir(filepath)\n",
    "# print(files)"
   ]
  },
  {
   "cell_type": "code",
   "execution_count": 3,
   "metadata": {},
   "outputs": [],
   "source": [
    "speeches = []\n",
    "# iterate over all the files in directory 'parent'\n",
    "for each_celeb in os.listdir(filepath):\n",
    "    celeb_speech = []\n",
    "    current_path = \"\".join((filepath, each_celeb))\n",
    "    \n",
    "    if not os.path.isdir(current_path):\n",
    "        break    \n",
    "    \n",
    "#     celeb_speech.append(each_celeb)\n",
    "    \n",
    "    for each_speech in os.listdir(current_path):\n",
    "        next_path = \"\".join((current_path, \"/\", each_speech))\n",
    "        \n",
    "        \n",
    "        for each_wav in os.listdir(next_path):\n",
    "            \n",
    "            p = \"\".join((next_path, \"/\", each_wav))\n",
    "            \n",
    "#             samplerate, d = wavfile.read(p)\n",
    "            wave, sr = lb.load(p)\n",
    "            celeb_speech.append(wave)\n",
    "    \n",
    "    celeb_speech = np.concatenate(celeb_speech)\n",
    "    speeches.append(celeb_speech)\n"
   ]
  },
  {
   "cell_type": "markdown",
   "metadata": {},
   "source": [
    "## Feature extraction"
   ]
  },
  {
   "cell_type": "code",
   "execution_count": 4,
   "metadata": {},
   "outputs": [],
   "source": [
    "spectrograms=[]\n",
    "\n",
    "while len(spectrograms)<10:\n",
    "    spec = lb.feature.melspectrogram(y=speeches[0], sr=8000, hop_length = int(8000*0.01), n_fft = int(8000*0.03))\n",
    "    spectrograms.append(spec)\n",
    "  "
   ]
  },
  {
   "cell_type": "code",
   "execution_count": 5,
   "metadata": {},
   "outputs": [],
   "source": [
    "A = np.asarray(spectrograms)"
   ]
  },
  {
   "cell_type": "code",
   "execution_count": 19,
   "metadata": {},
   "outputs": [
    {
     "data": {
      "text/plain": [
       "(10, 128, 251042)"
      ]
     },
     "execution_count": 19,
     "metadata": {},
     "output_type": "execute_result"
    }
   ],
   "source": [
    "A.shape"
   ]
  },
  {
   "cell_type": "code",
   "execution_count": 20,
   "metadata": {},
   "outputs": [],
   "source": [
    "A.shape = (A.shape[2]*A.shape[0], A.shape[1])"
   ]
  },
  {
   "cell_type": "code",
   "execution_count": 21,
   "metadata": {},
   "outputs": [
    {
     "data": {
      "text/plain": [
       "(2510420, 128)"
      ]
     },
     "execution_count": 21,
     "metadata": {},
     "output_type": "execute_result"
    }
   ],
   "source": [
    "A.shape"
   ]
  },
  {
   "cell_type": "markdown",
   "metadata": {},
   "source": [
    "## Labels"
   ]
  },
  {
   "cell_type": "code",
   "execution_count": 24,
   "metadata": {},
   "outputs": [],
   "source": [
    "y = []\n",
    "# print(y.shape)"
   ]
  },
  {
   "cell_type": "code",
   "execution_count": 25,
   "metadata": {},
   "outputs": [],
   "source": [
    "for i in range(0,2510421):\n",
    "    x = []\n",
    "    for j in range (1, 129):\n",
    "        x.append(i+1)\n",
    "    y.append(x)"
   ]
  },
  {
   "cell_type": "code",
   "execution_count": null,
   "metadata": {},
   "outputs": [],
   "source": [
    "y = np.asarray(y)"
   ]
  },
  {
   "cell_type": "code",
   "execution_count": null,
   "metadata": {},
   "outputs": [],
   "source": []
  },
  {
   "cell_type": "markdown",
   "metadata": {},
   "source": [
    "## Training && Confusion matrix"
   ]
  },
  {
   "cell_type": "markdown",
   "metadata": {},
   "source": [
    "We are building a classifier using a feedfoward neural network with one hidden layer and 256 hidden units.\n",
    "\n",
    "This model is trained for 1000 epochs. Please run the program while grading."
   ]
  },
  {
   "cell_type": "code",
   "execution_count": null,
   "metadata": {},
   "outputs": [],
   "source": [
    "RANDOM_SEED = 1\n",
    "tf.set_random_seed(RANDOM_SEED)\n",
    "\n",
    "\n",
    "def init_weights(shape):\n",
    "    \"\"\" Weight initialization \"\"\"\n",
    "    weights = tf.random_normal(shape, stddev=0.1)\n",
    "    return tf.Variable(weights)\n",
    "\n",
    "def forwardprop(X, w_1, w_2):\n",
    "    \"\"\"\n",
    "    Forward-propagation.\n",
    "    IMPORTANT: yhat is not softmax since TensorFlow's softmax_cross_entropy_with_logits() does that internally.\n",
    "    \"\"\"\n",
    "    h    = tf.nn.relu(tf.matmul(X, w_1))  # The \\sigma function\n",
    "    yhat = tf.matmul(h, w_2)  # The \\varphi function\n",
    "    return yhat\n",
    "\n",
    "# This x_ddta is A and y_data is y in our assignment.\n",
    "def get_data():\n",
    "    return train_test_split(A, y, test_size=0.33, random_state=RANDOM_SEED)\n",
    "\n",
    "def main():\n",
    "    train_X, test_X, train_y, test_y = get_data()\n",
    "\n",
    "    # HINT: Turn the targets to categorical\n",
    "    # Use tf.keras.utils.to_categorical to convert the target variables\n",
    "    train_y = tf.keras.utils.to_categorical(train_y)\n",
    "    test_y = tf.keras.utils.to_categorical(test_y)\n",
    "    \n",
    "    # Layer's sizes\n",
    "    x_size = train_X.shape[1]   \n",
    "    # TODO: Choose appropriate hidden sizes for both layers\n",
    "    h_size = 256 \n",
    "    y_size = train_y.shape[1]\n",
    "\n",
    "\n",
    "    # Symbols\n",
    "    X = tf.placeholder(\"float\", shape=[None, x_size])\n",
    "    y = tf.placeholder(\"float\", shape=[None, y_size])\n",
    "\n",
    "    # Weight initializations\n",
    "    w_1 = init_weights((x_size, h_size))\n",
    "    w_2 = init_weights((h_size, y_size))\n",
    "    \n",
    "    # Bias Section\n",
    "    # TODO : You can create three bias variables and use forwardprop_with_bias function\n",
    "    \n",
    "    # Forward propagation\n",
    "    # TODO: create `yhat` using forwardprop/forwardprop_with_bias function\n",
    "    yhat    = forwardprop(X,w_1,w_2)\n",
    "    predict = tf.argmax(yhat, axis=1)\n",
    "\n",
    "    # Backward propagation\n",
    "    \n",
    "    # Create cost function and Optimizer \n",
    "    # Loss Function: Cross Entropy loss\n",
    "    # Optimizer : Gradient Descent/Adam Opt.\n",
    "    cost    = tf.reduce_mean(tf.nn.softmax_cross_entropy_with_logits(labels=y, logits=yhat))\n",
    "    updates = tf.train.AdamOptimizer().minimize(cost)\n",
    "\n",
    "    # Run SGD\n",
    "    sess = tf.Session()\n",
    "    init = tf.global_variables_initializer()\n",
    "    sess.run(init)\n",
    "\n",
    "    # Epoch count\n",
    "    epoc_count = 1000\n",
    "    \n",
    "    for epoch in range(epoc_count):\n",
    "        # Train with each example\n",
    "        for i in range(len(train_X)):\n",
    "            sess.run(updates, feed_dict={X: train_X[i: i + 1], y: train_y[i: i + 1]})\n",
    "        #TODO: Print Test and Train accuracy\n",
    "        \n",
    "    sess.close()\n",
    "\n",
    "if __name__ == '__main__':\n",
    "    main()"
   ]
  },
  {
   "cell_type": "code",
   "execution_count": null,
   "metadata": {},
   "outputs": [],
   "source": []
  },
  {
   "cell_type": "markdown",
   "metadata": {},
   "source": [
    "## K-means Clustering"
   ]
  },
  {
   "cell_type": "markdown",
   "metadata": {},
   "source": [
    "Now we use the K-means algorithm cluster A into 10 clusters."
   ]
  },
  {
   "cell_type": "code",
   "execution_count": null,
   "metadata": {},
   "outputs": [],
   "source": [
    "kmeans = KMeans(n_clusters = 10)\n",
    "kmeans.fit(A)\n",
    "\n",
    "# Plot the Models Classifications\n",
    "plt.scatter(A[:,0], y[:, 0], c=kmeans.labels_, cmap='rainbow')"
   ]
  },
  {
   "cell_type": "code",
   "execution_count": null,
   "metadata": {},
   "outputs": [],
   "source": []
  },
  {
   "cell_type": "code",
   "execution_count": null,
   "metadata": {},
   "outputs": [],
   "source": []
  }
 ],
 "metadata": {
  "kernelspec": {
   "display_name": "Python 3",
   "language": "python",
   "name": "python3"
  },
  "language_info": {
   "codemirror_mode": {
    "name": "ipython",
    "version": 3
   },
   "file_extension": ".py",
   "mimetype": "text/x-python",
   "name": "python",
   "nbconvert_exporter": "python",
   "pygments_lexer": "ipython3",
   "version": "3.7.3"
  }
 },
 "nbformat": 4,
 "nbformat_minor": 2
}
